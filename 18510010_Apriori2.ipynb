{
 "cells": [
  {
   "cell_type": "code",
   "execution_count": 1,
   "metadata": {},
   "outputs": [],
   "source": [
    "import numpy as np\n",
    "import pandas as pd\n",
    "from apyori import apriori"
   ]
  },
  {
   "cell_type": "code",
   "execution_count": 2,
   "metadata": {},
   "outputs": [],
   "source": [
    "store_data = pd.read_excel('C:/Users/agusz/Documents/datamining-master/datamining-master/data.xls')"
   ]
  },
  {
   "cell_type": "code",
   "execution_count": 3,
   "metadata": {},
   "outputs": [
    {
     "data": {
      "text/html": [
       "<div>\n",
       "<style scoped>\n",
       "    .dataframe tbody tr th:only-of-type {\n",
       "        vertical-align: middle;\n",
       "    }\n",
       "\n",
       "    .dataframe tbody tr th {\n",
       "        vertical-align: top;\n",
       "    }\n",
       "\n",
       "    .dataframe thead th {\n",
       "        text-align: right;\n",
       "    }\n",
       "</style>\n",
       "<table border=\"1\" class=\"dataframe\">\n",
       "  <thead>\n",
       "    <tr style=\"text-align: right;\">\n",
       "      <th></th>\n",
       "      <th>Barang 1</th>\n",
       "      <th>Barang 2</th>\n",
       "      <th>Barang 3</th>\n",
       "      <th>Barang 4</th>\n",
       "      <th>Barang 5</th>\n",
       "      <th>Barang 6</th>\n",
       "    </tr>\n",
       "  </thead>\n",
       "  <tbody>\n",
       "    <tr>\n",
       "      <th>0</th>\n",
       "      <td>Wine</td>\n",
       "      <td>Chips</td>\n",
       "      <td>Bread</td>\n",
       "      <td>Butter</td>\n",
       "      <td>Milk</td>\n",
       "      <td>Apple</td>\n",
       "    </tr>\n",
       "    <tr>\n",
       "      <th>1</th>\n",
       "      <td>Wine</td>\n",
       "      <td>NaN</td>\n",
       "      <td>Bread</td>\n",
       "      <td>Butter</td>\n",
       "      <td>Milk</td>\n",
       "      <td>NaN</td>\n",
       "    </tr>\n",
       "    <tr>\n",
       "      <th>2</th>\n",
       "      <td>NaN</td>\n",
       "      <td>NaN</td>\n",
       "      <td>Bread</td>\n",
       "      <td>Butter</td>\n",
       "      <td>Milk</td>\n",
       "      <td>NaN</td>\n",
       "    </tr>\n",
       "    <tr>\n",
       "      <th>3</th>\n",
       "      <td>NaN</td>\n",
       "      <td>Chips</td>\n",
       "      <td>NaN</td>\n",
       "      <td>NaN</td>\n",
       "      <td>NaN</td>\n",
       "      <td>Apple</td>\n",
       "    </tr>\n",
       "    <tr>\n",
       "      <th>4</th>\n",
       "      <td>Wine</td>\n",
       "      <td>Chips</td>\n",
       "      <td>Bread</td>\n",
       "      <td>Butter</td>\n",
       "      <td>Milk</td>\n",
       "      <td>Apple</td>\n",
       "    </tr>\n",
       "  </tbody>\n",
       "</table>\n",
       "</div>"
      ],
      "text/plain": [
       "  Barang 1 Barang 2 Barang 3 Barang 4 Barang 5 Barang 6\n",
       "0     Wine    Chips    Bread   Butter     Milk    Apple\n",
       "1     Wine      NaN    Bread   Butter     Milk      NaN\n",
       "2      NaN      NaN    Bread   Butter     Milk      NaN\n",
       "3      NaN    Chips      NaN      NaN      NaN    Apple\n",
       "4     Wine    Chips    Bread   Butter     Milk    Apple"
      ]
     },
     "execution_count": 3,
     "metadata": {},
     "output_type": "execute_result"
    }
   ],
   "source": [
    "store_data.head()"
   ]
  },
  {
   "cell_type": "code",
   "execution_count": 4,
   "metadata": {},
   "outputs": [
    {
     "data": {
      "text/plain": [
       "(22, 6)"
      ]
     },
     "execution_count": 4,
     "metadata": {},
     "output_type": "execute_result"
    }
   ],
   "source": [
    "store_data.shape"
   ]
  },
  {
   "cell_type": "code",
   "execution_count": 5,
   "metadata": {},
   "outputs": [],
   "source": [
    "records = []\n",
    "for i in range(0, 22):\n",
    "    records.append([str(store_data.values[i,j]) for j in range (0,6)])\n"
   ]
  },
  {
   "cell_type": "code",
   "execution_count": 17,
   "metadata": {},
   "outputs": [],
   "source": [
    "association_rules = apriori(records, min_support = 0.15, min_confidence = 0.6, min_lift = 1.4, mint_lenght=3)\n",
    "association_results = list(association_rules) "
   ]
  },
  {
   "cell_type": "code",
   "execution_count": 18,
   "metadata": {},
   "outputs": [
    {
     "name": "stdout",
     "output_type": "stream",
     "text": [
      "5\n"
     ]
    }
   ],
   "source": [
    "print(len(association_results))"
   ]
  },
  {
   "cell_type": "code",
   "execution_count": 19,
   "metadata": {},
   "outputs": [
    {
     "name": "stdout",
     "output_type": "stream",
     "text": [
      "RelationRecord(items=frozenset({'Apple', 'Bread', 'Butter', 'Chips'}), support=0.3181818181818182, ordered_statistics=[OrderedStatistic(items_base=frozenset({'Apple', 'Butter'}), items_add=frozenset({'Bread', 'Chips'}), confidence=0.6363636363636364, lift=1.4000000000000001), OrderedStatistic(items_base=frozenset({'Bread', 'Chips'}), items_add=frozenset({'Apple', 'Butter'}), confidence=0.7000000000000001, lift=1.4000000000000001)])\n"
     ]
    }
   ],
   "source": [
    "print(association_results[0])"
   ]
  },
  {
   "cell_type": "code",
   "execution_count": 25,
   "metadata": {},
   "outputs": [
    {
     "name": "stdout",
     "output_type": "stream",
     "text": [
      "  title1 title2 support confidence    lift\n",
      "0  Apple  Bread  0.3181     0.6363  1.4000\n",
      "  title1  title2 support confidence    lift\n",
      "0  Apple   Bread  0.3181     0.6363  1.4000\n",
      "1  Bread  Butter  0.3181     0.7000  1.4000\n",
      "  title1  title2 support confidence    lift\n",
      "0  Apple   Bread  0.3181     0.6363  1.4000\n",
      "1  Bread  Butter  0.3181     0.7000  1.4000\n",
      "2  Chips   Apple  0.2272     0.8333  1.4102\n",
      "  title1  title2 support confidence    lift\n",
      "0  Apple   Bread  0.3181     0.6363  1.4000\n",
      "1  Bread  Butter  0.3181     0.7000  1.4000\n",
      "2  Chips   Apple  0.2272     0.8333  1.4102\n",
      "3  Chips   Apple  0.2272     0.8333  1.4102\n",
      "  title1  title2 support confidence    lift\n",
      "0  Apple   Bread  0.3181     0.6363  1.4000\n",
      "1  Bread  Butter  0.3181     0.7000  1.4000\n",
      "2  Chips   Apple  0.2272     0.8333  1.4102\n",
      "3  Chips   Apple  0.2272     0.8333  1.4102\n",
      "4  Chips  Butter  0.2727     0.7499  1.4999\n"
     ]
    }
   ],
   "source": [
    "results =[]\n",
    "for item in association_results:\n",
    "    pair=item[0]\n",
    "    items = [x for x in pair]\n",
    "    \n",
    "    value0 = str(items[0])\n",
    "    value1 = str(items[1])\n",
    "    value2 = str(item[1])[:6]\n",
    "    value3 = str(item[2][0][2])[:6]\n",
    "    value4 = str(item[2][0][3])[:6]\n",
    "    \n",
    "    rows = (value0,value1,value2,value3,value4)\n",
    "    results.append(rows)\n",
    "    label = ['title1','title2','support','confidence','lift']\n",
    "    store_suggestion = pd.DataFrame.from_records(results,columns=label)\n",
    "    \n",
    "    print(store_suggestion)"
   ]
  },
  {
   "cell_type": "code",
   "execution_count": 26,
   "metadata": {},
   "outputs": [
    {
     "data": {
      "text/html": [
       "<div>\n",
       "<style scoped>\n",
       "    .dataframe tbody tr th:only-of-type {\n",
       "        vertical-align: middle;\n",
       "    }\n",
       "\n",
       "    .dataframe tbody tr th {\n",
       "        vertical-align: top;\n",
       "    }\n",
       "\n",
       "    .dataframe thead th {\n",
       "        text-align: right;\n",
       "    }\n",
       "</style>\n",
       "<table border=\"1\" class=\"dataframe\">\n",
       "  <thead>\n",
       "    <tr style=\"text-align: right;\">\n",
       "      <th></th>\n",
       "      <th>title1</th>\n",
       "      <th>title2</th>\n",
       "      <th>support</th>\n",
       "      <th>confidence</th>\n",
       "      <th>lift</th>\n",
       "    </tr>\n",
       "  </thead>\n",
       "  <tbody>\n",
       "    <tr>\n",
       "      <th>count</th>\n",
       "      <td>5</td>\n",
       "      <td>5</td>\n",
       "      <td>5</td>\n",
       "      <td>5</td>\n",
       "      <td>5</td>\n",
       "    </tr>\n",
       "    <tr>\n",
       "      <th>unique</th>\n",
       "      <td>3</td>\n",
       "      <td>3</td>\n",
       "      <td>3</td>\n",
       "      <td>4</td>\n",
       "      <td>3</td>\n",
       "    </tr>\n",
       "    <tr>\n",
       "      <th>top</th>\n",
       "      <td>Chips</td>\n",
       "      <td>Butter</td>\n",
       "      <td>0.3181</td>\n",
       "      <td>0.8333</td>\n",
       "      <td>1.4000</td>\n",
       "    </tr>\n",
       "    <tr>\n",
       "      <th>freq</th>\n",
       "      <td>3</td>\n",
       "      <td>2</td>\n",
       "      <td>2</td>\n",
       "      <td>2</td>\n",
       "      <td>2</td>\n",
       "    </tr>\n",
       "  </tbody>\n",
       "</table>\n",
       "</div>"
      ],
      "text/plain": [
       "       title1  title2 support confidence    lift\n",
       "count       5       5       5          5       5\n",
       "unique      3       3       3          4       3\n",
       "top     Chips  Butter  0.3181     0.8333  1.4000\n",
       "freq        3       2       2          2       2"
      ]
     },
     "execution_count": 26,
     "metadata": {},
     "output_type": "execute_result"
    }
   ],
   "source": [
    "store_suggestion.describe()"
   ]
  },
  {
   "cell_type": "code",
   "execution_count": 27,
   "metadata": {},
   "outputs": [],
   "source": [
    "store_suggestion.to_excel('C:/Users/agusz/Documents/datamining-master/datamining-master/dataAgus.xls')"
   ]
  },
  {
   "cell_type": "code",
   "execution_count": null,
   "metadata": {},
   "outputs": [],
   "source": []
  }
 ],
 "metadata": {
  "kernelspec": {
   "display_name": "Python 3",
   "language": "python",
   "name": "python3"
  },
  "language_info": {
   "codemirror_mode": {
    "name": "ipython",
    "version": 3
   },
   "file_extension": ".py",
   "mimetype": "text/x-python",
   "name": "python",
   "nbconvert_exporter": "python",
   "pygments_lexer": "ipython3",
   "version": "3.8.3"
  }
 },
 "nbformat": 4,
 "nbformat_minor": 4
}
