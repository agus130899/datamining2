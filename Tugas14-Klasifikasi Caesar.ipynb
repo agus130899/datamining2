{
 "cells": [
  {
   "cell_type": "code",
   "execution_count": 22,
   "metadata": {},
   "outputs": [],
   "source": [
    "import pandas as pd\n",
    "import numpy as np\n",
    "import seaborn as sns\n",
    "import matplotlib.pyplot as plt\n",
    "import warnings\n",
    "warnings.filterwarnings(\"ignore\")\n",
    "import pickle"
   ]
  },
  {
   "cell_type": "code",
   "execution_count": 40,
   "metadata": {},
   "outputs": [],
   "source": [
    "df = pd.read_csv('RC2.csv')"
   ]
  },
  {
   "cell_type": "code",
   "execution_count": 41,
   "metadata": {},
   "outputs": [
    {
     "data": {
      "text/html": [
       "<div>\n",
       "<style scoped>\n",
       "    .dataframe tbody tr th:only-of-type {\n",
       "        vertical-align: middle;\n",
       "    }\n",
       "\n",
       "    .dataframe tbody tr th {\n",
       "        vertical-align: top;\n",
       "    }\n",
       "\n",
       "    .dataframe thead th {\n",
       "        text-align: right;\n",
       "    }\n",
       "</style>\n",
       "<table border=\"1\" class=\"dataframe\">\n",
       "  <thead>\n",
       "    <tr style=\"text-align: right;\">\n",
       "      <th></th>\n",
       "      <th>id</th>\n",
       "      <th>Age</th>\n",
       "      <th>Delivery1</th>\n",
       "      <th>Delivery2</th>\n",
       "      <th>Blood</th>\n",
       "      <th>Heart</th>\n",
       "      <th>Caesarian</th>\n",
       "    </tr>\n",
       "  </thead>\n",
       "  <tbody>\n",
       "    <tr>\n",
       "      <th>0</th>\n",
       "      <td>1</td>\n",
       "      <td>22</td>\n",
       "      <td>1</td>\n",
       "      <td>0</td>\n",
       "      <td>2</td>\n",
       "      <td>0</td>\n",
       "      <td>0</td>\n",
       "    </tr>\n",
       "    <tr>\n",
       "      <th>1</th>\n",
       "      <td>2</td>\n",
       "      <td>26</td>\n",
       "      <td>2</td>\n",
       "      <td>0</td>\n",
       "      <td>1</td>\n",
       "      <td>0</td>\n",
       "      <td>1</td>\n",
       "    </tr>\n",
       "    <tr>\n",
       "      <th>2</th>\n",
       "      <td>3</td>\n",
       "      <td>26</td>\n",
       "      <td>2</td>\n",
       "      <td>1</td>\n",
       "      <td>1</td>\n",
       "      <td>0</td>\n",
       "      <td>0</td>\n",
       "    </tr>\n",
       "    <tr>\n",
       "      <th>3</th>\n",
       "      <td>4</td>\n",
       "      <td>28</td>\n",
       "      <td>1</td>\n",
       "      <td>0</td>\n",
       "      <td>2</td>\n",
       "      <td>0</td>\n",
       "      <td>0</td>\n",
       "    </tr>\n",
       "    <tr>\n",
       "      <th>4</th>\n",
       "      <td>5</td>\n",
       "      <td>22</td>\n",
       "      <td>2</td>\n",
       "      <td>0</td>\n",
       "      <td>1</td>\n",
       "      <td>0</td>\n",
       "      <td>1</td>\n",
       "    </tr>\n",
       "  </tbody>\n",
       "</table>\n",
       "</div>"
      ],
      "text/plain": [
       "   id  Age  Delivery1  Delivery2  Blood  Heart  Caesarian\n",
       "0   1   22          1          0      2      0          0\n",
       "1   2   26          2          0      1      0          1\n",
       "2   3   26          2          1      1      0          0\n",
       "3   4   28          1          0      2      0          0\n",
       "4   5   22          2          0      1      0          1"
      ]
     },
     "execution_count": 41,
     "metadata": {},
     "output_type": "execute_result"
    }
   ],
   "source": [
    "df.head()"
   ]
  },
  {
   "cell_type": "code",
   "execution_count": 42,
   "metadata": {},
   "outputs": [
    {
     "data": {
      "text/plain": [
       "(80, 7)"
      ]
     },
     "execution_count": 42,
     "metadata": {},
     "output_type": "execute_result"
    }
   ],
   "source": [
    "df.shape"
   ]
  },
  {
   "cell_type": "code",
   "execution_count": 43,
   "metadata": {},
   "outputs": [
    {
     "name": "stdout",
     "output_type": "stream",
     "text": [
      "<class 'pandas.core.frame.DataFrame'>\n",
      "RangeIndex: 80 entries, 0 to 79\n",
      "Data columns (total 7 columns):\n",
      " #   Column     Non-Null Count  Dtype\n",
      "---  ------     --------------  -----\n",
      " 0   id         80 non-null     int64\n",
      " 1   Age        80 non-null     int64\n",
      " 2   Delivery1  80 non-null     int64\n",
      " 3   Delivery2  80 non-null     int64\n",
      " 4   Blood      80 non-null     int64\n",
      " 5   Heart      80 non-null     int64\n",
      " 6   Caesarian  80 non-null     int64\n",
      "dtypes: int64(7)\n",
      "memory usage: 4.5 KB\n"
     ]
    }
   ],
   "source": [
    "df.info()"
   ]
  },
  {
   "cell_type": "code",
   "execution_count": 46,
   "metadata": {},
   "outputs": [],
   "source": [
    "df['is_duplicated'] = df.duplicated()"
   ]
  },
  {
   "cell_type": "code",
   "execution_count": 47,
   "metadata": {},
   "outputs": [
    {
     "data": {
      "text/plain": [
       "False    80\n",
       "Name: is_duplicated, dtype: int64"
      ]
     },
     "execution_count": 47,
     "metadata": {},
     "output_type": "execute_result"
    }
   ],
   "source": [
    "\n",
    "df['is_duplicated'].value_counts()"
   ]
  },
  {
   "cell_type": "code",
   "execution_count": 51,
   "metadata": {},
   "outputs": [
    {
     "data": {
      "text/html": [
       "<div>\n",
       "<style scoped>\n",
       "    .dataframe tbody tr th:only-of-type {\n",
       "        vertical-align: middle;\n",
       "    }\n",
       "\n",
       "    .dataframe tbody tr th {\n",
       "        vertical-align: top;\n",
       "    }\n",
       "\n",
       "    .dataframe thead th {\n",
       "        text-align: right;\n",
       "    }\n",
       "</style>\n",
       "<table border=\"1\" class=\"dataframe\">\n",
       "  <thead>\n",
       "    <tr style=\"text-align: right;\">\n",
       "      <th></th>\n",
       "      <th>Age</th>\n",
       "      <th>Delivery1</th>\n",
       "      <th>Caesarian</th>\n",
       "    </tr>\n",
       "  </thead>\n",
       "  <tbody>\n",
       "    <tr>\n",
       "      <th>count</th>\n",
       "      <td>80.000000</td>\n",
       "      <td>80.000000</td>\n",
       "      <td>80.000000</td>\n",
       "    </tr>\n",
       "    <tr>\n",
       "      <th>mean</th>\n",
       "      <td>27.687500</td>\n",
       "      <td>1.662500</td>\n",
       "      <td>0.575000</td>\n",
       "    </tr>\n",
       "    <tr>\n",
       "      <th>std</th>\n",
       "      <td>5.017927</td>\n",
       "      <td>0.794662</td>\n",
       "      <td>0.497462</td>\n",
       "    </tr>\n",
       "    <tr>\n",
       "      <th>min</th>\n",
       "      <td>17.000000</td>\n",
       "      <td>1.000000</td>\n",
       "      <td>0.000000</td>\n",
       "    </tr>\n",
       "    <tr>\n",
       "      <th>25%</th>\n",
       "      <td>25.000000</td>\n",
       "      <td>1.000000</td>\n",
       "      <td>0.000000</td>\n",
       "    </tr>\n",
       "    <tr>\n",
       "      <th>50%</th>\n",
       "      <td>27.000000</td>\n",
       "      <td>1.000000</td>\n",
       "      <td>1.000000</td>\n",
       "    </tr>\n",
       "    <tr>\n",
       "      <th>75%</th>\n",
       "      <td>32.000000</td>\n",
       "      <td>2.000000</td>\n",
       "      <td>1.000000</td>\n",
       "    </tr>\n",
       "    <tr>\n",
       "      <th>max</th>\n",
       "      <td>40.000000</td>\n",
       "      <td>4.000000</td>\n",
       "      <td>1.000000</td>\n",
       "    </tr>\n",
       "  </tbody>\n",
       "</table>\n",
       "</div>"
      ],
      "text/plain": [
       "             Age  Delivery1  Caesarian\n",
       "count  80.000000  80.000000  80.000000\n",
       "mean   27.687500   1.662500   0.575000\n",
       "std     5.017927   0.794662   0.497462\n",
       "min    17.000000   1.000000   0.000000\n",
       "25%    25.000000   1.000000   0.000000\n",
       "50%    27.000000   1.000000   1.000000\n",
       "75%    32.000000   2.000000   1.000000\n",
       "max    40.000000   4.000000   1.000000"
      ]
     },
     "execution_count": 51,
     "metadata": {},
     "output_type": "execute_result"
    }
   ],
   "source": []
  },
  {
   "cell_type": "markdown",
   "metadata": {},
   "source": [
    "# Visualising health conditions and delivery history"
   ]
  },
  {
   "cell_type": "code",
   "execution_count": 52,
   "metadata": {},
   "outputs": [
    {
     "data": {
      "text/html": [
       "<div>\n",
       "<style scoped>\n",
       "    .dataframe tbody tr th:only-of-type {\n",
       "        vertical-align: middle;\n",
       "    }\n",
       "\n",
       "    .dataframe tbody tr th {\n",
       "        vertical-align: top;\n",
       "    }\n",
       "\n",
       "    .dataframe thead th {\n",
       "        text-align: right;\n",
       "    }\n",
       "</style>\n",
       "<table border=\"1\" class=\"dataframe\">\n",
       "  <thead>\n",
       "    <tr style=\"text-align: right;\">\n",
       "      <th></th>\n",
       "      <th>count</th>\n",
       "      <th>mean</th>\n",
       "      <th>std</th>\n",
       "      <th>min</th>\n",
       "      <th>25%</th>\n",
       "      <th>50%</th>\n",
       "      <th>75%</th>\n",
       "      <th>max</th>\n",
       "    </tr>\n",
       "  </thead>\n",
       "  <tbody>\n",
       "    <tr>\n",
       "      <th>id</th>\n",
       "      <td>80.0</td>\n",
       "      <td>40.5000</td>\n",
       "      <td>23.237900</td>\n",
       "      <td>1.0</td>\n",
       "      <td>20.75</td>\n",
       "      <td>40.5</td>\n",
       "      <td>60.25</td>\n",
       "      <td>80.0</td>\n",
       "    </tr>\n",
       "    <tr>\n",
       "      <th>Age</th>\n",
       "      <td>80.0</td>\n",
       "      <td>27.6875</td>\n",
       "      <td>5.017927</td>\n",
       "      <td>17.0</td>\n",
       "      <td>25.00</td>\n",
       "      <td>27.0</td>\n",
       "      <td>32.00</td>\n",
       "      <td>40.0</td>\n",
       "    </tr>\n",
       "    <tr>\n",
       "      <th>Delivery1</th>\n",
       "      <td>80.0</td>\n",
       "      <td>1.6625</td>\n",
       "      <td>0.794662</td>\n",
       "      <td>1.0</td>\n",
       "      <td>1.00</td>\n",
       "      <td>1.0</td>\n",
       "      <td>2.00</td>\n",
       "      <td>4.0</td>\n",
       "    </tr>\n",
       "    <tr>\n",
       "      <th>Delivery2</th>\n",
       "      <td>80.0</td>\n",
       "      <td>0.6375</td>\n",
       "      <td>0.815107</td>\n",
       "      <td>0.0</td>\n",
       "      <td>0.00</td>\n",
       "      <td>0.0</td>\n",
       "      <td>1.00</td>\n",
       "      <td>2.0</td>\n",
       "    </tr>\n",
       "    <tr>\n",
       "      <th>Blood</th>\n",
       "      <td>80.0</td>\n",
       "      <td>1.0000</td>\n",
       "      <td>0.711568</td>\n",
       "      <td>0.0</td>\n",
       "      <td>0.75</td>\n",
       "      <td>1.0</td>\n",
       "      <td>1.25</td>\n",
       "      <td>2.0</td>\n",
       "    </tr>\n",
       "    <tr>\n",
       "      <th>Heart</th>\n",
       "      <td>80.0</td>\n",
       "      <td>0.3750</td>\n",
       "      <td>0.487177</td>\n",
       "      <td>0.0</td>\n",
       "      <td>0.00</td>\n",
       "      <td>0.0</td>\n",
       "      <td>1.00</td>\n",
       "      <td>1.0</td>\n",
       "    </tr>\n",
       "    <tr>\n",
       "      <th>Caesarian</th>\n",
       "      <td>80.0</td>\n",
       "      <td>0.5750</td>\n",
       "      <td>0.497462</td>\n",
       "      <td>0.0</td>\n",
       "      <td>0.00</td>\n",
       "      <td>1.0</td>\n",
       "      <td>1.00</td>\n",
       "      <td>1.0</td>\n",
       "    </tr>\n",
       "  </tbody>\n",
       "</table>\n",
       "</div>"
      ],
      "text/plain": [
       "           count     mean        std   min    25%   50%    75%   max\n",
       "id          80.0  40.5000  23.237900   1.0  20.75  40.5  60.25  80.0\n",
       "Age         80.0  27.6875   5.017927  17.0  25.00  27.0  32.00  40.0\n",
       "Delivery1   80.0   1.6625   0.794662   1.0   1.00   1.0   2.00   4.0\n",
       "Delivery2   80.0   0.6375   0.815107   0.0   0.00   0.0   1.00   2.0\n",
       "Blood       80.0   1.0000   0.711568   0.0   0.75   1.0   1.25   2.0\n",
       "Heart       80.0   0.3750   0.487177   0.0   0.00   0.0   1.00   1.0\n",
       "Caesarian   80.0   0.5750   0.497462   0.0   0.00   1.0   1.00   1.0"
      ]
     },
     "execution_count": 52,
     "metadata": {},
     "output_type": "execute_result"
    }
   ],
   "source": [
    "#Visualising health conditions and delivery history\n",
    "df.describe().T"
   ]
  },
  {
   "cell_type": "raw",
   "metadata": {},
   "source": [
    "Dari data di atas usia anatara 17-40 dengan rata-rata 27 tahun. Semua wanita setidaknya pernah mengalami satu kali persalinan, dengan rata=rata 1,66 sebelumnya dan maksimal 4 persalinan sebelumnya."
   ]
  },
  {
   "cell_type": "code",
   "execution_count": 54,
   "metadata": {},
   "outputs": [
    {
     "data": {
      "text/plain": [
       "1    0.575\n",
       "0    0.425\n",
       "Name: Caesarian, dtype: float64"
      ]
     },
     "execution_count": 54,
     "metadata": {},
     "output_type": "execute_result"
    }
   ],
   "source": [
    "#detail pengalaman C-Section atau tidak\n",
    "df['Caesarian'].value_counts()/80"
   ]
  },
  {
   "cell_type": "code",
   "execution_count": 56,
   "metadata": {},
   "outputs": [
    {
     "data": {
      "image/png": "[encoded data removed]",
      "text/plain": [
       "<Figure size 720x648 with 9 Axes>"
      ]
     },
     "metadata": {
      "needs_background": "light"
     },
     "output_type": "display_data"
    }
   ],
   "source": [
    "fig = df.hist(bins=15,\n",
    "                 color='red',\n",
    "                 #edgecolor='black', linewidth=1.0,\n",
    "                 xlabelsize=10, ylabelsize=10,\n",
    "                 #xrot=45, yrot=0,\n",
    "                 figsize=(10,9),\n",
    "                 grid=False)\n",
    "\n",
    "plt.tight_layout(rect=(0, 0, 1.5, 1.5))"
   ]
  },
  {
   "cell_type": "markdown",
   "metadata": {},
   "source": [
    "#Kesimpulan\n",
    "-Hampir 50% ibu hamil memiliki tekanan darah normal. Jumlah ibu hamil dengan tekanan darah rendah dan tinggi berada dalam urutan yang sama besarnya.\n",
    "-50% ibu hamil memiliki tepat satu persalinan sebelumnya.\n",
    "-Lebih dari 50% ibu hamil memiliki waktu persalinan yang tepat waktu. \n",
    "-Jumlah ibu hamis dengan waktu persalinan prematur dan terlambat datang dalam urutan yang sama besarnya.\n",
    "-Mayoritas wanita tidak memiliki masalah jantung.\n",
    "-Mayoritas wanita menjalani operasi caesar (57,5%). "
   ]
  },
  {
   "cell_type": "markdown",
   "metadata": {},
   "source": [
    "# Age and number of prior deliveries"
   ]
  },
  {
   "cell_type": "markdown",
   "metadata": {},
   "source": [
    "untuk mengatahui hubungan antara usia dengan persalinan sebelumnya"
   ]
  },
  {
   "cell_type": "code",
   "execution_count": 58,
   "metadata": {},
   "outputs": [
    {
     "data": {
      "text/plain": [
       "<seaborn.axisgrid.JointGrid at 0x1b326e52970>"
      ]
     },
     "execution_count": 58,
     "metadata": {},
     "output_type": "execute_result"
    },
    {
     "data": {
      "image/png": "[encoded data removed]",
      "text/plain": [
       "<Figure size 432x432 with 3 Axes>"
      ]
     },
     "metadata": {
      "needs_background": "light"
     },
     "output_type": "display_data"
    }
   ],
   "source": [
    "sns.jointplot(x='Age',y='Delivery1',data=df,kind='hex')"
   ]
  },
  {
   "cell_type": "markdown",
   "metadata": {},
   "source": [
    "semakin muda wanita, semakin rendah jumlah persalinan sebelumnya. "
   ]
  },
  {
   "cell_type": "code",
   "execution_count": 68,
   "metadata": {},
   "outputs": [
    {
     "data": {
      "image/png": "[encoded data removed]",
      "text/plain": [
       "<Figure size 360x216 with 1 Axes>"
      ]
     },
     "metadata": {},
     "output_type": "display_data"
    }
   ],
   "source": [
    "#Blood vs occurence of C-section\n",
    "\n",
    "fig = plt.figure(figsize=(5, 3))\n",
    "\n",
    "cp = sns.countplot(data=df, \n",
    "                   x=\"Blood\", \n",
    "                   hue=\"Caesarian\", \n",
    "                   palette={1: \"Pink\", 0: \"Green\"})"
   ]
  },
  {
   "cell_type": "markdown",
   "metadata": {},
   "source": [
    "Terjadinya operasi caesar lebih besar ketika ibu hamil memiliki tekanan darah rendah (0) atau tekanan darah tinggi (2) dalam sampel ini. Kedua kondisi ini tampaknya berdampak pada kebutuhan untuk operasi caesar. Pada tekanan darah normal (1) terjadinya operasi caesar lebih sedikit, sehingga pada tekanan darah normal kemungkinan kecil untuk operasi caesar "
   ]
  },
  {
   "cell_type": "code",
   "execution_count": 67,
   "metadata": {},
   "outputs": [
    {
     "data": {
      "image/png": "[encoded data removed]",
      "text/plain": [
       "<Figure size 360x216 with 1 Axes>"
      ]
     },
     "metadata": {},
     "output_type": "display_data"
    }
   ],
   "source": [
    "#Heart issue vs occurence of C-section\n",
    "fig = plt.figure(figsize=(5, 3))\n",
    "\n",
    "cp = sns.countplot(data=df, \n",
    "                   x=\"Heart\", \n",
    "                   hue=\"Caesarian\", \n",
    "                   palette={1: \"Red\", 0: \"Yellow\"})"
   ]
  },
  {
   "cell_type": "markdown",
   "metadata": {},
   "source": [
    "Terjadinya operasi caesar jauh lebih besar ketika ibu hamil memiliki masalah jantung, yang tampaknya wajar. "
   ]
  }
 ],
 "metadata": {
  "kernelspec": {
   "display_name": "Python 3",
   "language": "python",
   "name": "python3"
  },
  "language_info": {
   "codemirror_mode": {
    "name": "ipython",
    "version": 3
   },
   "file_extension": ".py",
   "mimetype": "text/x-python",
   "name": "python",
   "nbconvert_exporter": "python",
   "pygments_lexer": "ipython3",
   "version": "3.8.3"
  }
 },
 "nbformat": 4,
 "nbformat_minor": 4
}
